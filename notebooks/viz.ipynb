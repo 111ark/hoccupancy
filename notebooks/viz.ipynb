{
 "cells": [
  {
   "cell_type": "code",
   "execution_count": 1,
   "id": "acce165f-f6fb-4233-8fda-8100b242d3fb",
   "metadata": {},
   "outputs": [],
   "source": [
    "import streamlit as st\n",
    "import pandas as pd\n",
    "import numpy as np \n",
    "import plotly.graph_objects as go\n",
    "import plotly.express as px\n",
    "import os\n",
    "import json\n",
    "\n"
   ]
  },
  {
   "cell_type": "code",
   "execution_count": 5,
   "id": "0ef40c5a-df91-4c17-b1e3-26c330b04840",
   "metadata": {},
   "outputs": [
    {
     "name": "stdout",
     "output_type": "stream",
     "text": [
      "wtf\n"
     ]
    }
   ],
   "source": [
    "\n",
    "pop_df = pd.read_csv('../data/processed/district_pop.csv')\n",
    "# # district geodata\n",
    "\n",
    "# with open('../data/raw/ch-districts.geojson') as f:\n",
    "# \tgeodata = json.load(f)\n",
    "\n",
    "\n",
    "geodata\n",
    "\n",
    "# fig = px.choropleth_mapbox(\n",
    "#     pop_df,\n",
    "#     geojson=geodata,\n",
    "#     color='pop23',\n",
    "#     locations='name',\n",
    "#     featureidkey=\"properties.NAME\",\n",
    "#     color_continuous_scale=px.colors.sequential.algae,\n",
    "#     )\n",
    "\n",
    "# fig.update_layout(mapbox_style=\"carto-positron\",\n",
    "#                   mapbox_zoom=6, mapbox_center = {\"lon\": 8.2328637, \"lat\": 46.7995666})\n",
    "# fig.update_layout(margin={\"r\":0,\"t\":0,\"l\":0,\"b\":0})\n",
    "\n",
    "# fig.show()\n",
    "print(\"wtf\")"
   ]
  }
 ],
 "metadata": {
  "kernelspec": {
   "display_name": "VIZ",
   "language": "python",
   "name": "viz"
  },
  "language_info": {
   "codemirror_mode": {
    "name": "ipython",
    "version": 3
   },
   "file_extension": ".py",
   "mimetype": "text/x-python",
   "name": "python",
   "nbconvert_exporter": "python",
   "pygments_lexer": "ipython3",
   "version": "3.10.14"
  }
 },
 "nbformat": 4,
 "nbformat_minor": 5
}
