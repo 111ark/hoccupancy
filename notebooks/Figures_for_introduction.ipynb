{
 "cells": [
  {
   "cell_type": "markdown",
   "metadata": {},
   "source": [
    "# Figures for the introduction\n",
    "\n",
    "This notebook is used to make the figures for the introduction of the topic. Showing healthcare spend over time and some basic statistics on the swiss medical system with a focus on basic medical care."
   ]
  },
  {
   "cell_type": "code",
   "execution_count": 1,
   "metadata": {},
   "outputs": [],
   "source": [
    "# imports\n",
    "import pandas as pd\n",
    "import plotly.express as px\n"
   ]
  },
  {
   "cell_type": "markdown",
   "metadata": {},
   "source": [
    "### History of medical spend"
   ]
  },
  {
   "cell_type": "code",
   "execution_count": 4,
   "metadata": {},
   "outputs": [
    {
     "data": {
      "text/html": [
       "<div>\n",
       "<style scoped>\n",
       "    .dataframe tbody tr th:only-of-type {\n",
       "        vertical-align: middle;\n",
       "    }\n",
       "\n",
       "    .dataframe tbody tr th {\n",
       "        vertical-align: top;\n",
       "    }\n",
       "\n",
       "    .dataframe thead th {\n",
       "        text-align: right;\n",
       "    }\n",
       "</style>\n",
       "<table border=\"1\" class=\"dataframe\">\n",
       "  <thead>\n",
       "    <tr style=\"text-align: right;\">\n",
       "      <th></th>\n",
       "      <th>Kosten des Gesundheitswesens seit 1960*</th>\n",
       "      <th>Unnamed: 1</th>\n",
       "      <th>Unnamed: 2</th>\n",
       "      <th>Unnamed: 3</th>\n",
       "      <th>Unnamed: 4</th>\n",
       "      <th>Unnamed: 5</th>\n",
       "      <th>Unnamed: 6</th>\n",
       "      <th>Unnamed: 7</th>\n",
       "    </tr>\n",
       "  </thead>\n",
       "  <tbody>\n",
       "    <tr>\n",
       "      <th>0</th>\n",
       "      <td>NaN</td>\n",
       "      <td>NaN</td>\n",
       "      <td>NaN</td>\n",
       "      <td>NaN</td>\n",
       "      <td>NaN</td>\n",
       "      <td>NaN</td>\n",
       "      <td>NaN</td>\n",
       "      <td>NaN</td>\n",
       "    </tr>\n",
       "    <tr>\n",
       "      <th>1</th>\n",
       "      <td>Jahr</td>\n",
       "      <td>Kosten des Gesundheitswesens</td>\n",
       "      <td>NaN</td>\n",
       "      <td>Bruttoinlandprodukt (BIP)</td>\n",
       "      <td>NaN</td>\n",
       "      <td>NaN</td>\n",
       "      <td>Durchschnittliche Wohnbevölkerung, in Tausend</td>\n",
       "      <td>Kosten des Gesundheitswesens pro Kopf und Mona...</td>\n",
       "    </tr>\n",
       "    <tr>\n",
       "      <th>2</th>\n",
       "      <td>NaN</td>\n",
       "      <td>Nominal in Mio. Franken</td>\n",
       "      <td>Index 1995=100</td>\n",
       "      <td>Nominal in Mio. Franken</td>\n",
       "      <td>Index 1995=100</td>\n",
       "      <td>% des BIP</td>\n",
       "      <td>NaN</td>\n",
       "      <td>NaN</td>\n",
       "    </tr>\n",
       "    <tr>\n",
       "      <th>3</th>\n",
       "      <td>1960</td>\n",
       "      <td>2005.221487</td>\n",
       "      <td>5.56821</td>\n",
       "      <td>45057.732575</td>\n",
       "      <td>10.799298</td>\n",
       "      <td>4.450338</td>\n",
       "      <td>5362</td>\n",
       "      <td>31.164079</td>\n",
       "    </tr>\n",
       "    <tr>\n",
       "      <th>4</th>\n",
       "      <td>1961</td>\n",
       "      <td>2128.454719</td>\n",
       "      <td>5.910411</td>\n",
       "      <td>50688.441997</td>\n",
       "      <td>12.148849</td>\n",
       "      <td>4.199093</td>\n",
       "      <td>5512</td>\n",
       "      <td>32.179105</td>\n",
       "    </tr>\n",
       "  </tbody>\n",
       "</table>\n",
       "</div>"
      ],
      "text/plain": [
       "  Kosten des Gesundheitswesens seit 1960*                    Unnamed: 1  \\\n",
       "0                                     NaN                           NaN   \n",
       "1                                    Jahr  Kosten des Gesundheitswesens   \n",
       "2                                     NaN       Nominal in Mio. Franken   \n",
       "3                                    1960                   2005.221487   \n",
       "4                                    1961                   2128.454719   \n",
       "\n",
       "       Unnamed: 2                 Unnamed: 3      Unnamed: 4 Unnamed: 5  \\\n",
       "0             NaN                        NaN             NaN        NaN   \n",
       "1             NaN  Bruttoinlandprodukt (BIP)             NaN        NaN   \n",
       "2  Index 1995=100    Nominal in Mio. Franken  Index 1995=100  % des BIP   \n",
       "3         5.56821               45057.732575       10.799298   4.450338   \n",
       "4        5.910411               50688.441997       12.148849   4.199093   \n",
       "\n",
       "                                      Unnamed: 6  \\\n",
       "0                                            NaN   \n",
       "1  Durchschnittliche Wohnbevölkerung, in Tausend   \n",
       "2                                            NaN   \n",
       "3                                           5362   \n",
       "4                                           5512   \n",
       "\n",
       "                                          Unnamed: 7  \n",
       "0                                                NaN  \n",
       "1  Kosten des Gesundheitswesens pro Kopf und Mona...  \n",
       "2                                                NaN  \n",
       "3                                          31.164079  \n",
       "4                                          32.179105  "
      ]
     },
     "execution_count": 5,
     "metadata": {},
     "output_type": "execute_result"
    }
   ],
   "source": [
    "med_spend = pd.read_excel('../data/raw/je-d-14.05.01.01.xlsx', sheet_name='Kosten seit 1960', engine='openpyxl')\n",
    "\n",
    "med_spend.head()"
   ]
  }
 ],
 "metadata": {
  "kernelspec": {
   "display_name": "hospital",
   "language": "python",
   "name": "python3"
  },
  "language_info": {
   "codemirror_mode": {
    "name": "ipython",
    "version": 3
   },
   "file_extension": ".py",
   "mimetype": "text/x-python",
   "name": "python",
   "nbconvert_exporter": "python",
   "pygments_lexer": "ipython3",
   "version": "3.12.4"
  }
 },
 "nbformat": 4,
 "nbformat_minor": 2
}
