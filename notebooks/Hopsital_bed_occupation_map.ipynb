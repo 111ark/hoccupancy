{
 "cells": [
  {
   "cell_type": "code",
   "execution_count": null,
   "metadata": {},
   "outputs": [],
   "source": [
    "import plotly.express as px\n",
    "import pandas as pd\n",
    "import json\n",
    "\n",
    "# Load the GeoJSON file\n",
    "with open('../data/raw/gemeinden_wus.geojson', 'r') as f:\n",
    "    geojson = json.load(f)\n",
    "\n",
    "# Load the population data from the CSV file\n",
    "d_pop = pd.read_csv('../data/raw/gemeinden.csv', encoding='utf-8')\n",
    "d_pop['EINWOHNERZ'] = 1\n",
    "\n",
    "d_pop.head()"
   ]
  },
  {
   "cell_type": "code",
   "execution_count": null,
   "metadata": {},
   "outputs": [],
   "source": [
    "# Create a choropleth map\n",
    "fig = px.choropleth_mapbox(\n",
    "    d_pop,\n",
    "    geojson=geojson,\n",
    "    color='EINWOHNERZ',\n",
    "    locations='gemeinde.NAME',\n",
    "    featureidkey='properties.gemeinde_NAME',\n",
    "    color_continuous_scale=px.colors.sequential.algae,\n",
    ")\n",
    "\n",
    "# Update the layout\n",
    "fig.update_layout(\n",
    "    mapbox_style=\"carto-positron\",\n",
    "    mapbox_zoom=6,\n",
    "    margin={\"r\":0,\"t\":0,\"l\":0,\"b\":0},\n",
    "    mapbox_center={\"lat\": 46.800663, \"lon\": 8.22289}, \n",
    ")\n",
    "\n",
    "# Show the plot\n",
    "fig.show()"
   ]
  }
 ],
 "metadata": {
  "kernelspec": {
   "display_name": "hospital",
   "language": "python",
   "name": "python3"
  },
  "language_info": {
   "codemirror_mode": {
    "name": "ipython",
    "version": 3
   },
   "file_extension": ".py",
   "mimetype": "text/x-python",
   "name": "python",
   "nbconvert_exporter": "python",
   "pygments_lexer": "ipython3",
   "version": "3.12.4"
  }
 },
 "nbformat": 4,
 "nbformat_minor": 2
}
