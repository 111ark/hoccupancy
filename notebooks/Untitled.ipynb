{
 "cells": [
  {
   "cell_type": "code",
   "execution_count": 15,
   "id": "a55c92c3-d647-4493-b1bf-05a20155721d",
   "metadata": {},
   "outputs": [],
   "source": [
    "import streamlit as st\n",
    "import pandas as pd\n",
    "import numpy as np \n",
    "import plotly.graph_objects as go\n",
    "import plotly.express as px\n",
    "import os\n",
    "import json\n",
    "\n",
    "## Load the GeoJSON data\n",
    "with open('../data/raw/data.geojson') as f:\n",
    "    geojson_data = json.load(f)\n",
    "\n",
    "# Print sample feature\n",
    "# print(geojson_data['features'][0])\n",
    "\n",
    "\n",
    "# # Flatten GeoJSON features to DataFrame\n",
    "features = geojson_data['features']\n",
    "df = pd.json_normalize(features)\n",
    "\n",
    "df_pops = df[['attributes.B19BTOT', 'attributes.GMDNAME']]\n",
    "\n",
    "df_pops.to_csv('pops_left.csv')\n",
    "\n",
    "# df = df.reset_index(drop=True)  # Ensure a clean integer index\n",
    "# df_pops.to_csv('output.csv', index=False)  # Save without including the index in the CSV\n",
    "\n",
    "# df.to_csv('t.csv')\n",
    "\n",
    "# df.to_csv('o.csv')"
   ]
  },
  {
   "cell_type": "code",
   "execution_count": null,
   "id": "70b5b35e-2d70-4e23-b287-c18fa70c7500",
   "metadata": {},
   "outputs": [],
   "source": []
  }
 ],
 "metadata": {
  "kernelspec": {
   "display_name": "Python 3 (ipykernel)",
   "language": "python",
   "name": "python3"
  },
  "language_info": {
   "codemirror_mode": {
    "name": "ipython",
    "version": 3
   },
   "file_extension": ".py",
   "mimetype": "text/x-python",
   "name": "python",
   "nbconvert_exporter": "python",
   "pygments_lexer": "ipython3",
   "version": "3.12.4"
  }
 },
 "nbformat": 4,
 "nbformat_minor": 5
}
