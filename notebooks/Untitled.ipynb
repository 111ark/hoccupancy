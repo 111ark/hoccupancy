{
 "cells": [
  {
   "cell_type": "code",
   "execution_count": 22,
   "id": "a55c92c3-d647-4493-b1bf-05a20155721d",
   "metadata": {},
   "outputs": [
    {
     "name": "stdout",
     "output_type": "stream",
     "text": [
      "HI\n"
     ]
    }
   ],
   "source": [
    "print(\"HI\")\n",
    "\n",
    "import streamlit as st\n",
    "import pandas as pd\n",
    "import numpy as np \n",
    "import plotly.graph_objects as go\n",
    "import plotly.express as px\n",
    "import os\n",
    "import json\n",
    "\n",
    "# data = {\n",
    "#     'BEZIRKSNUM': [1901, 1843],  # Example district number (must match \"BEZIRKSNUM\" in GeoJSON)\n",
    "#     'EINWOHNERZ': [78305, 92000]  # Example population data to map\n",
    "# }\n",
    "# df = pd.DataFrame(data)\n",
    "df = pd.read_csv('../data/processed/geojson_df_including_pops.csv', encoding='utf-8')\n",
    "\n",
    "\n",
    "dframe = {\n",
    "    'BEZIRKSNUM': df['BEZIRKSNUM'],  # Example district number (must match \"BEZIRKSNUM\" in GeoJSON)\n",
    "    'EINWOHNERZ': df['EINWOHNERZ']  # Example population data to map\n",
    "}\n",
    "\n",
    "\n",
    "\n",
    "\n",
    "with open('../data/raw/ch-districts.geojson') as f:\n",
    "    geojson_data = json.load(f)\n",
    "\n",
    "# Create the choropleth map using Plotly Express\n",
    "fig = px.choropleth_mapbox(dframe,\n",
    "                           geojson=geojson_data,\n",
    "                           locations='BEZIRKSNUM', # this must match featureidkey\n",
    "                           featureidkey=\"properties.BEZIRKSNUM\",  # This must match the property in your GeoJSON\n",
    "                           color='EINWOHNERZ',\n",
    "                           mapbox_style=\"carto-positron\",\n",
    "                           center={\"lat\": 47.0, \"lon\": 8.0},  # Switzerland coordinates\n",
    "                           zoom=7)\n",
    "\n",
    "fig.update_layout(margin={\"r\":0,\"t\":0,\"l\":0,\"b\":0})\n",
    "\n",
    "fig.show()\n",
    "\n"
   ]
  },
  {
   "cell_type": "code",
   "execution_count": null,
   "id": "70b5b35e-2d70-4e23-b287-c18fa70c7500",
   "metadata": {},
   "outputs": [],
   "source": [
    "print(\"HI\")"
   ]
  }
 ],
 "metadata": {
  "kernelspec": {
   "display_name": "Python 3 (ipykernel)",
   "language": "python",
   "name": "python3"
  },
  "language_info": {
   "codemirror_mode": {
    "name": "ipython",
    "version": 3
   },
   "file_extension": ".py",
   "mimetype": "text/x-python",
   "name": "python",
   "nbconvert_exporter": "python",
   "pygments_lexer": "ipython3",
   "version": "3.12.4"
  }
 },
 "nbformat": 4,
 "nbformat_minor": 5
}
