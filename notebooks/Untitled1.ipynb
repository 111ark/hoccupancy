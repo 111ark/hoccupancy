{
 "cells": [
  {
   "cell_type": "code",
   "execution_count": 13,
   "id": "12b33bd1-2de2-4730-99a8-8e4e7bfc19b0",
   "metadata": {},
   "outputs": [],
   "source": [
    "dir = '../data/processed/district_population.csv'\n",
    "\n",
    "import pandas as pd\n",
    "import os\n",
    "import json\n",
    "import requests\n"
   ]
  },
  {
   "cell_type": "code",
   "execution_count": 15,
   "id": "7d998acf-60a3-49d4-bd5b-600822cd2ab3",
   "metadata": {},
   "outputs": [],
   "source": [
    "df = pd.read_csv(dir)"
   ]
  },
  {
   "cell_type": "code",
   "execution_count": 47,
   "id": "0eedff97-30a6-49e6-ac27-2d19425813e3",
   "metadata": {},
   "outputs": [],
   "source": [
    "# column_names = ['name', 'status', 'pop80', 'pop90', 'pop00', 'pop10', 'pop20', 'pop23']\n",
    "\n",
    "# df.columns = column_names\n",
    "\n",
    "# df.to_csv('district_pop.csv')\n",
    "\n",
    "\n",
    "# df['status'] == 'Canton'\n",
    "\n",
    "# df_c = df[df['status']=='Canton']\n",
    "# df_c\n",
    "\n",
    "# df_d = df[df['status']=='District']\n",
    "\n",
    "\n",
    "# df_c.to_csv('canton_pop.csv')"
   ]
  },
  {
   "cell_type": "code",
   "execution_count": 108,
   "id": "c0008fe1-32e0-4949-a88c-c3973b5f7d3d",
   "metadata": {},
   "outputs": [],
   "source": [
    "# df_d_names = df_d['name'].unique()\n",
    "\n",
    "# type(df_d_names)\n",
    "\n",
    "# df_d_names.to_csv('region_names.csv')\n",
    "\n",
    "# df_unique_values = pd.DataFrame(df_d_names, columns=['districts'])\n",
    "# df_unique_values.to_csv('districts.csv', index=False)\n",
    "\n",
    "# d = pd.DataFrame(df_d_names)"
   ]
  }
 ],
 "metadata": {
  "kernelspec": {
   "display_name": "Python 3 (ipykernel)",
   "language": "python",
   "name": "python3"
  },
  "language_info": {
   "codemirror_mode": {
    "name": "ipython",
    "version": 3
   },
   "file_extension": ".py",
   "mimetype": "text/x-python",
   "name": "python",
   "nbconvert_exporter": "python",
   "pygments_lexer": "ipython3",
   "version": "3.12.4"
  }
 },
 "nbformat": 4,
 "nbformat_minor": 5
}
