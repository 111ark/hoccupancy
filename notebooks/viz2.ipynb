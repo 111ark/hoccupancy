{
 "cells": [
  {
   "cell_type": "code",
   "execution_count": 1,
   "id": "e7aa15e6-b20c-44e7-9ea6-7d98d6bc31d1",
   "metadata": {},
   "outputs": [
    {
     "name": "stderr",
     "output_type": "stream",
     "text": [
      "/opt/anaconda3/envs/VIZ/lib/python3.10/site-packages/dask/dataframe/__init__.py:42: FutureWarning: \n",
      "Dask dataframe query planning is disabled because dask-expr is not installed.\n",
      "\n",
      "You can install it with `pip install dask[dataframe]` or `conda install dask`.\n",
      "This will raise in a future version.\n",
      "\n",
      "  warnings.warn(msg, FutureWarning)\n"
     ]
    },
    {
     "ename": "ImportError",
     "evalue": "The login failed because the arcpy library could not be found in your Python environment. Try logging in with a different set of credentials.",
     "output_type": "error",
     "traceback": [
      "\u001b[0;31m---------------------------------------------------------------------------\u001b[0m",
      "\u001b[0;31mModuleNotFoundError\u001b[0m                       Traceback (most recent call last)",
      "File \u001b[0;32m/opt/anaconda3/envs/VIZ/lib/python3.10/site-packages/arcgis/gis/_impl/_portalpy.py:124\u001b[0m, in \u001b[0;36mPortal.__init__\u001b[0;34m(self, url, username, password, key_file, cert_file, expiration, referer, proxy_host, proxy_port, connection, workdir, tokenurl, verify_cert, client_id, custom_auth, token, **kwargs)\u001b[0m\n\u001b[1;32m    123\u001b[0m \u001b[38;5;28;01mtry\u001b[39;00m:\n\u001b[0;32m--> 124\u001b[0m     \u001b[38;5;28;01mimport\u001b[39;00m \u001b[38;5;21;01marcpy\u001b[39;00m\n\u001b[1;32m    126\u001b[0m     \u001b[38;5;28;01mif\u001b[39;00m \u001b[38;5;129;01mnot\u001b[39;00m arcpy\u001b[38;5;241m.\u001b[39mGetSigninToken():\n",
      "\u001b[0;31mModuleNotFoundError\u001b[0m: No module named 'arcpy'",
      "\nDuring handling of the above exception, another exception occurred:\n",
      "\u001b[0;31mImportError\u001b[0m                               Traceback (most recent call last)",
      "Cell \u001b[0;32mIn[1], line 6\u001b[0m\n\u001b[1;32m      3\u001b[0m \u001b[38;5;28;01mimport\u001b[39;00m \u001b[38;5;21;01mrequests\u001b[39;00m\n\u001b[1;32m      5\u001b[0m \u001b[38;5;66;03m# Connect to ArcGIS Online\u001b[39;00m\n\u001b[0;32m----> 6\u001b[0m gis \u001b[38;5;241m=\u001b[39m \u001b[43mGIS\u001b[49m\u001b[43m(\u001b[49m\u001b[38;5;124;43m\"\u001b[39;49m\u001b[38;5;124;43mhome\u001b[39;49m\u001b[38;5;124;43m\"\u001b[39;49m\u001b[43m)\u001b[49m\n\u001b[1;32m      8\u001b[0m \u001b[38;5;66;03m# Specify the item ID and layer ID (replace with the correct IDs)\u001b[39;00m\n\u001b[1;32m      9\u001b[0m item_id \u001b[38;5;241m=\u001b[39m \u001b[38;5;124m'\u001b[39m\u001b[38;5;124ma58386ecf0404dd09a4abc0bcd607561\u001b[39m\u001b[38;5;124m'\u001b[39m  \u001b[38;5;66;03m# Replace with your item ID\u001b[39;00m\n",
      "File \u001b[0;32m/opt/anaconda3/envs/VIZ/lib/python3.10/site-packages/arcgis/gis/__init__.py:637\u001b[0m, in \u001b[0;36mGIS.__init__\u001b[0;34m(self, url, username, password, key_file, cert_file, verify_cert, set_active, client_id, profile, **kwargs)\u001b[0m\n\u001b[1;32m    631\u001b[0m         \u001b[38;5;28;01mraise\u001b[39;00m \u001b[38;5;167;01mRuntimeError\u001b[39;00m(\n\u001b[1;32m    632\u001b[0m             \u001b[38;5;124m\"\u001b[39m\u001b[38;5;124mAn untrusted SSL error occurred when attempting to connect to the provided GIS.\u001b[39m\u001b[38;5;130;01m\\n\u001b[39;00m\u001b[38;5;124m\"\u001b[39m\n\u001b[1;32m    633\u001b[0m             \u001b[38;5;124m\"\u001b[39m\u001b[38;5;124mIf you trust this server and want to proceed, add \u001b[39m\u001b[38;5;124m'\u001b[39m\u001b[38;5;124mverify_cert=False\u001b[39m\u001b[38;5;124m'\u001b[39m\u001b[38;5;124m as an \u001b[39m\u001b[38;5;124m\"\u001b[39m\n\u001b[1;32m    634\u001b[0m             \u001b[38;5;124m\"\u001b[39m\u001b[38;5;124margument when connecting to the GIS.\u001b[39m\u001b[38;5;124m\"\u001b[39m\n\u001b[1;32m    635\u001b[0m         )\n\u001b[1;32m    636\u001b[0m     \u001b[38;5;28;01melse\u001b[39;00m:\n\u001b[0;32m--> 637\u001b[0m         \u001b[38;5;28;01mraise\u001b[39;00m e\n\u001b[1;32m    638\u001b[0m \u001b[38;5;28;01mtry\u001b[39;00m:\n\u001b[1;32m    639\u001b[0m     \u001b[38;5;28;01mif\u001b[39;00m (\n\u001b[1;32m    640\u001b[0m         url\u001b[38;5;241m.\u001b[39mlower()\u001b[38;5;241m.\u001b[39mfind(\u001b[38;5;124m\"\u001b[39m\u001b[38;5;124marcgis.com\u001b[39m\u001b[38;5;124m\"\u001b[39m) \u001b[38;5;241m>\u001b[39m \u001b[38;5;241m-\u001b[39m\u001b[38;5;241m1\u001b[39m\n\u001b[1;32m    641\u001b[0m         \u001b[38;5;129;01mand\u001b[39;00m \u001b[38;5;28mself\u001b[39m\u001b[38;5;241m.\u001b[39m_portal\u001b[38;5;241m.\u001b[39mis_logged_in\n\u001b[1;32m    642\u001b[0m         \u001b[38;5;129;01mand\u001b[39;00m \u001b[38;5;28mself\u001b[39m\u001b[38;5;241m.\u001b[39m_portal\u001b[38;5;241m.\u001b[39mcon\u001b[38;5;241m.\u001b[39m_auth\u001b[38;5;241m.\u001b[39mlower() \u001b[38;5;241m==\u001b[39m \u001b[38;5;124m\"\u001b[39m\u001b[38;5;124moauth\u001b[39m\u001b[38;5;124m\"\u001b[39m\n\u001b[1;32m    643\u001b[0m     ):\n",
      "File \u001b[0;32m/opt/anaconda3/envs/VIZ/lib/python3.10/site-packages/arcgis/gis/__init__.py:576\u001b[0m, in \u001b[0;36mGIS.__init__\u001b[0;34m(self, url, username, password, key_file, cert_file, verify_cert, set_active, client_id, profile, **kwargs)\u001b[0m\n\u001b[1;32m    574\u001b[0m     \u001b[38;5;28mself\u001b[39m\u001b[38;5;241m.\u001b[39m_expiration \u001b[38;5;241m=\u001b[39m \u001b[38;5;241m60\u001b[39m\n\u001b[1;32m    575\u001b[0m \u001b[38;5;28;01mtry\u001b[39;00m:\n\u001b[0;32m--> 576\u001b[0m     \u001b[38;5;28mself\u001b[39m\u001b[38;5;241m.\u001b[39m_portal \u001b[38;5;241m=\u001b[39m \u001b[43m_portalpy\u001b[49m\u001b[38;5;241;43m.\u001b[39;49m\u001b[43mPortal\u001b[49m\u001b[43m(\u001b[49m\n\u001b[1;32m    577\u001b[0m \u001b[43m        \u001b[49m\u001b[38;5;28;43mself\u001b[39;49m\u001b[38;5;241;43m.\u001b[39;49m\u001b[43m_url\u001b[49m\u001b[43m,\u001b[49m\n\u001b[1;32m    578\u001b[0m \u001b[43m        \u001b[49m\u001b[38;5;28;43mself\u001b[39;49m\u001b[38;5;241;43m.\u001b[39;49m\u001b[43m_username\u001b[49m\u001b[43m,\u001b[49m\n\u001b[1;32m    579\u001b[0m \u001b[43m        \u001b[49m\u001b[38;5;28;43mself\u001b[39;49m\u001b[38;5;241;43m.\u001b[39;49m\u001b[43m_password\u001b[49m\u001b[43m,\u001b[49m\n\u001b[1;32m    580\u001b[0m \u001b[43m        \u001b[49m\u001b[38;5;28;43mself\u001b[39;49m\u001b[38;5;241;43m.\u001b[39;49m\u001b[43m_key_file\u001b[49m\u001b[43m,\u001b[49m\n\u001b[1;32m    581\u001b[0m \u001b[43m        \u001b[49m\u001b[38;5;28;43mself\u001b[39;49m\u001b[38;5;241;43m.\u001b[39;49m\u001b[43m_cert_file\u001b[49m\u001b[43m,\u001b[49m\n\u001b[1;32m    582\u001b[0m \u001b[43m        \u001b[49m\u001b[43mproxy_host\u001b[49m\u001b[38;5;241;43m=\u001b[39;49m\u001b[38;5;28;43mself\u001b[39;49m\u001b[38;5;241;43m.\u001b[39;49m\u001b[43m_proxy_host\u001b[49m\u001b[43m,\u001b[49m\n\u001b[1;32m    583\u001b[0m \u001b[43m        \u001b[49m\u001b[43mproxy_port\u001b[49m\u001b[38;5;241;43m=\u001b[39;49m\u001b[38;5;28;43mself\u001b[39;49m\u001b[38;5;241;43m.\u001b[39;49m\u001b[43m_proxy_port\u001b[49m\u001b[43m,\u001b[49m\n\u001b[1;32m    584\u001b[0m \u001b[43m        \u001b[49m\u001b[43mverify_cert\u001b[49m\u001b[38;5;241;43m=\u001b[39;49m\u001b[38;5;28;43mself\u001b[39;49m\u001b[38;5;241;43m.\u001b[39;49m\u001b[43m_verify_cert\u001b[49m\u001b[43m,\u001b[49m\n\u001b[1;32m    585\u001b[0m \u001b[43m        \u001b[49m\u001b[43mclient_id\u001b[49m\u001b[38;5;241;43m=\u001b[39;49m\u001b[38;5;28;43mself\u001b[39;49m\u001b[38;5;241;43m.\u001b[39;49m\u001b[43m_client_id\u001b[49m\u001b[43m,\u001b[49m\n\u001b[1;32m    586\u001b[0m \u001b[43m        \u001b[49m\u001b[43mexpiration\u001b[49m\u001b[38;5;241;43m=\u001b[39;49m\u001b[38;5;28;43mself\u001b[39;49m\u001b[38;5;241;43m.\u001b[39;49m\u001b[43m_expiration\u001b[49m\u001b[43m,\u001b[49m\n\u001b[1;32m    587\u001b[0m \u001b[43m        \u001b[49m\u001b[43mreferer\u001b[49m\u001b[38;5;241;43m=\u001b[39;49m\u001b[38;5;28;43mself\u001b[39;49m\u001b[38;5;241;43m.\u001b[39;49m\u001b[43m_referer\u001b[49m\u001b[43m,\u001b[49m\n\u001b[1;32m    588\u001b[0m \u001b[43m        \u001b[49m\u001b[43mcustom_auth\u001b[49m\u001b[38;5;241;43m=\u001b[39;49m\u001b[43mcustom_auth\u001b[49m\u001b[43m,\u001b[49m\u001b[43m  \u001b[49m\u001b[38;5;66;43;03m# token=self._utoken,\u001b[39;49;00m\n\u001b[1;32m    589\u001b[0m \u001b[43m        \u001b[49m\u001b[43mclient_secret\u001b[49m\u001b[38;5;241;43m=\u001b[39;49m\u001b[43mclient_secret\u001b[49m\u001b[43m,\u001b[49m\n\u001b[1;32m    590\u001b[0m \u001b[43m        \u001b[49m\u001b[43mtrust_env\u001b[49m\u001b[38;5;241;43m=\u001b[39;49m\u001b[43mkwargs\u001b[49m\u001b[38;5;241;43m.\u001b[39;49m\u001b[43mget\u001b[49m\u001b[43m(\u001b[49m\u001b[38;5;124;43m\"\u001b[39;49m\u001b[38;5;124;43mtrust_env\u001b[39;49m\u001b[38;5;124;43m\"\u001b[39;49m\u001b[43m,\u001b[49m\u001b[43m \u001b[49m\u001b[38;5;28;43;01mNone\u001b[39;49;00m\u001b[43m)\u001b[49m\u001b[43m,\u001b[49m\n\u001b[1;32m    591\u001b[0m \u001b[43m        \u001b[49m\u001b[43mtimeout\u001b[49m\u001b[38;5;241;43m=\u001b[39;49m\u001b[38;5;28;43mself\u001b[39;49m\u001b[38;5;241;43m.\u001b[39;49m\u001b[43m_timeout\u001b[49m\u001b[43m,\u001b[49m\n\u001b[1;32m    592\u001b[0m \u001b[43m        \u001b[49m\u001b[43mproxy\u001b[49m\u001b[38;5;241;43m=\u001b[39;49m\u001b[43mkwargs\u001b[49m\u001b[38;5;241;43m.\u001b[39;49m\u001b[43mget\u001b[49m\u001b[43m(\u001b[49m\u001b[38;5;124;43m\"\u001b[39;49m\u001b[38;5;124;43mproxy\u001b[39;49m\u001b[38;5;124;43m\"\u001b[39;49m\u001b[43m,\u001b[49m\u001b[43m \u001b[49m\u001b[38;5;28;43;01mNone\u001b[39;49;00m\u001b[43m)\u001b[49m\u001b[43m,\u001b[49m\n\u001b[1;32m    593\u001b[0m \u001b[43m        \u001b[49m\u001b[43mcustom_adapter\u001b[49m\u001b[38;5;241;43m=\u001b[39;49m\u001b[43mcustom_adapter\u001b[49m\u001b[43m,\u001b[49m\n\u001b[1;32m    594\u001b[0m \u001b[43m        \u001b[49m\u001b[43mtoken\u001b[49m\u001b[38;5;241;43m=\u001b[39;49m\u001b[38;5;28;43mself\u001b[39;49m\u001b[38;5;241;43m.\u001b[39;49m\u001b[43m_utoken\u001b[49m\u001b[43m,\u001b[49m\n\u001b[1;32m    595\u001b[0m \u001b[43m        \u001b[49m\u001b[43mapi_key\u001b[49m\u001b[38;5;241;43m=\u001b[39;49m\u001b[38;5;28;43mself\u001b[39;49m\u001b[38;5;241;43m.\u001b[39;49m\u001b[43m_api_key\u001b[49m\u001b[43m,\u001b[49m\n\u001b[1;32m    596\u001b[0m \u001b[43m        \u001b[49m\u001b[43mis_hosted_nb_home\u001b[49m\u001b[38;5;241;43m=\u001b[39;49m\u001b[38;5;28;43mself\u001b[39;49m\u001b[38;5;241;43m.\u001b[39;49m\u001b[43m_is_hosted_nb_home\u001b[49m\u001b[43m,\u001b[49m\n\u001b[1;32m    597\u001b[0m \u001b[43m        \u001b[49m\u001b[43muse_gen_token\u001b[49m\u001b[38;5;241;43m=\u001b[39;49m\u001b[38;5;28;43mself\u001b[39;49m\u001b[38;5;241;43m.\u001b[39;49m\u001b[43m_use_gen_token\u001b[49m\u001b[43m,\u001b[49m\n\u001b[1;32m    598\u001b[0m \u001b[43m        \u001b[49m\u001b[43msecurity_kwargs\u001b[49m\u001b[38;5;241;43m=\u001b[39;49m\u001b[43msecurity_kwargs\u001b[49m\u001b[43m,\u001b[49m\n\u001b[1;32m    599\u001b[0m \u001b[43m    \u001b[49m\u001b[43m)\u001b[49m\n\u001b[1;32m    600\u001b[0m     \u001b[38;5;28;01mif\u001b[39;00m \u001b[38;5;28mself\u001b[39m\u001b[38;5;241m.\u001b[39m_portal\u001b[38;5;241m.\u001b[39mis_kubernetes:\n\u001b[1;32m    601\u001b[0m         \u001b[38;5;28;01mfrom\u001b[39;00m \u001b[38;5;21;01m.\u001b[39;00m\u001b[38;5;21;01mkubernetes\u001b[39;00m\u001b[38;5;21;01m.\u001b[39;00m\u001b[38;5;21;01m_sharing\u001b[39;00m \u001b[38;5;28;01mimport\u001b[39;00m KbertnetesPy\n",
      "File \u001b[0;32m/opt/anaconda3/envs/VIZ/lib/python3.10/site-packages/arcgis/gis/_impl/_portalpy.py:131\u001b[0m, in \u001b[0;36mPortal.__init__\u001b[0;34m(self, url, username, password, key_file, cert_file, expiration, referer, proxy_host, proxy_port, connection, workdir, tokenurl, verify_cert, client_id, custom_auth, token, **kwargs)\u001b[0m\n\u001b[1;32m    129\u001b[0m     \u001b[38;5;28mself\u001b[39m\u001b[38;5;241m.\u001b[39murl \u001b[38;5;241m=\u001b[39m url\n\u001b[1;32m    130\u001b[0m \u001b[38;5;28;01mexcept\u001b[39;00m \u001b[38;5;167;01mImportError\u001b[39;00m:\n\u001b[0;32m--> 131\u001b[0m     \u001b[38;5;28;01mraise\u001b[39;00m \u001b[38;5;167;01mImportError\u001b[39;00m(\n\u001b[1;32m    132\u001b[0m         (\n\u001b[1;32m    133\u001b[0m             \u001b[38;5;124m\"\u001b[39m\u001b[38;5;124mThe login failed because the arcpy library could not be found in your Python environment. \u001b[39m\u001b[38;5;124m\"\u001b[39m\n\u001b[1;32m    134\u001b[0m             \u001b[38;5;124m\"\u001b[39m\u001b[38;5;124mTry logging in with a different set of credentials.\u001b[39m\u001b[38;5;124m\"\u001b[39m\n\u001b[1;32m    135\u001b[0m         )\n\u001b[1;32m    136\u001b[0m     )\n\u001b[1;32m    137\u001b[0m \u001b[38;5;28;01mexcept\u001b[39;00m:\n\u001b[1;32m    138\u001b[0m     \u001b[38;5;28;01mraise\u001b[39;00m \u001b[38;5;167;01mValueError\u001b[39;00m(\u001b[38;5;124m\"\u001b[39m\u001b[38;5;124mCould not use Pro authentication.\u001b[39m\u001b[38;5;124m\"\u001b[39m)\n",
      "\u001b[0;31mImportError\u001b[0m: The login failed because the arcpy library could not be found in your Python environment. Try logging in with a different set of credentials."
     ]
    }
   ],
   "source": [
    "from arcgis.gis import GIS\n",
    "from arcgis.features import FeatureLayer\n",
    "import requests\n",
    "\n",
    "# Connect to ArcGIS Online\n",
    "gis = GIS(\"home\")\n",
    "\n",
    "# Specify the item ID and layer ID (replace with the correct IDs)\n",
    "item_id = 'a58386ecf0404dd09a4abc0bcd607561'  # Replace with your item ID\n",
    "layer_id = '0'  # Replace with the correct sublayer ID if applicable\n",
    "\n",
    "# Get the item\n",
    "item = gis.content.get(item_id)\n",
    "\n",
    "# Access the feature layer\n",
    "feature_layer = FeatureLayer(item.layers[int(layer_id)].url)\n",
    "\n",
    "# Define the query parameters\n",
    "params = {\n",
    "    'where': '1=1',  # Query all records\n",
    "    'outFields': '*',  # All fields\n",
    "    'f': 'geojson'  # Output format\n",
    "}\n",
    "\n",
    "# Query the feature layer\n",
    "response = feature_layer.query(**params)\n",
    "\n",
    "# Save the GeoJSON data to a file\n",
    "geojson_data = response.to_geojson()\n",
    "with open('data.geojson', 'w') as f:\n",
    "    f.write(geojson_data)\n"
   ]
  },
  {
   "cell_type": "code",
   "execution_count": 54,
   "id": "a391c73e-b472-40c6-8169-df774e1298d4",
   "metadata": {},
   "outputs": [
    {
     "data": {
      "image/png": "[encoded data removed]",
      "text/plain": [
       "<Figure size 1500x1500 with 1 Axes>"
      ]
     },
     "metadata": {},
     "output_type": "display_data"
    }
   ],
   "source": [
    "# import pandas as pd\n",
    "# import numpy as np\n",
    "# import geopandas as gpd\n",
    "# import matplotlib.pyplot as plt\n",
    "# %matplotlib inline\n",
    "\n",
    "# df_places = gpd.read_file('../data/raw/ch-districts.geojson_BA.geojson')\n",
    "\n",
    "# df_places['geometry']\n",
    "\n",
    "# merged_df['Count_Placeholder'] = 0\n",
    "# merged_df['Count_Placeholder'][:1700] = np.random.randint(7, size=1700)\n",
    "\n",
    "\n",
    "# import geopandas as gpd\n",
    "# import matplotlib.pyplot as plt\n",
    "# import pandas as pd\n",
    "# import json\n",
    "\n",
    "# # Load the data\n",
    "# data = {\n",
    "#     'BEZIRKSNUM': [1901, 1843],  # Ensure this column name matches the GeoJSON property\n",
    "#     'EINWOHNERZ': [78305, 92000]\n",
    "# }\n",
    "# df = pd.DataFrame(data)\n",
    "\n",
    "# # Load the GeoJSON file\n",
    "# with open('../data/raw/ch-districts.geojson') as f:\n",
    "#     geojson_data = json.load(f)\n",
    "\n",
    "# # Convert GeoJSON to GeoDataFrame\n",
    "# gdf = gpd.GeoDataFrame.from_features(geojson_data['features'])\n",
    "\n",
    "# # Rename columns if necessary to match\n",
    "# gdf = gdf.rename(columns={\"properties.BEZIRKSNUM\": \"BEZIRKSNUM\"})\n",
    "\n",
    "# # Merge GeoDataFrame with DataFrame, handling column overlaps\n",
    "# merged = gdf.merge(df, on='BEZIRKSNUM', how='left')\n",
    "\n",
    "# # Plot\n",
    "# fig, ax = plt.subplots(1, 1, figsize=(10, 10))\n",
    "# merged.plot(column='EINWOHNERZ', ax=ax, legend=True,\n",
    "#             legend_kwds={'label': \"Population by District\",\n",
    "#                          'orientation': \"horizontal\"})\n",
    "# ax.set_title(\"Choropleth Map of Population by District\")\n",
    "# plt.show()\n"
   ]
  },
  {
   "cell_type": "code",
   "execution_count": 8,
   "id": "e80131d1-ca13-4528-9fbe-3d519d74a0de",
   "metadata": {},
   "outputs": [
    {
     "ename": "FileNotFoundError",
     "evalue": "[Errno 2] No such file or directory: '../data/raw/ch-districts.geojson '",
     "output_type": "error",
     "traceback": [
      "\u001b[0;31m---------------------------------------------------------------------------\u001b[0m",
      "\u001b[0;31mFileNotFoundError\u001b[0m                         Traceback (most recent call last)",
      "Cell \u001b[0;32mIn[8], line 40\u001b[0m\n\u001b[1;32m     34\u001b[0m data \u001b[38;5;241m=\u001b[39m {\n\u001b[1;32m     35\u001b[0m     \u001b[38;5;124m'\u001b[39m\u001b[38;5;124mBEZIRKSNUM\u001b[39m\u001b[38;5;124m'\u001b[39m: [\u001b[38;5;241m1901\u001b[39m, \u001b[38;5;241m1843\u001b[39m],  \u001b[38;5;66;03m# Example district number (must match \"BEZIRKSNUM\" in GeoJSON)\u001b[39;00m\n\u001b[1;32m     36\u001b[0m     \u001b[38;5;124m'\u001b[39m\u001b[38;5;124mEINWOHNERZ\u001b[39m\u001b[38;5;124m'\u001b[39m: [\u001b[38;5;241m78305\u001b[39m, \u001b[38;5;241m92000\u001b[39m]  \u001b[38;5;66;03m# Example population data to map\u001b[39;00m\n\u001b[1;32m     37\u001b[0m }\n\u001b[1;32m     38\u001b[0m df \u001b[38;5;241m=\u001b[39m pd\u001b[38;5;241m.\u001b[39mDataFrame(data)\n\u001b[0;32m---> 40\u001b[0m \u001b[38;5;28;01mwith\u001b[39;00m \u001b[38;5;28;43mopen\u001b[39;49m\u001b[43m(\u001b[49m\u001b[38;5;124;43m'\u001b[39;49m\u001b[38;5;124;43m../data/raw/ch-districts.geojson \u001b[39;49m\u001b[38;5;124;43m'\u001b[39;49m\u001b[43m)\u001b[49m \u001b[38;5;28;01mas\u001b[39;00m f:\n\u001b[1;32m     41\u001b[0m     geojson_data \u001b[38;5;241m=\u001b[39m json\u001b[38;5;241m.\u001b[39mload(f)\n\u001b[1;32m     43\u001b[0m \u001b[38;5;66;03m# Create the choropleth map using Plotly Express\u001b[39;00m\n",
      "File \u001b[0;32m/opt/anaconda3/envs/VIZ/lib/python3.10/site-packages/IPython/core/interactiveshell.py:324\u001b[0m, in \u001b[0;36m_modified_open\u001b[0;34m(file, *args, **kwargs)\u001b[0m\n\u001b[1;32m    317\u001b[0m \u001b[38;5;28;01mif\u001b[39;00m file \u001b[38;5;129;01min\u001b[39;00m {\u001b[38;5;241m0\u001b[39m, \u001b[38;5;241m1\u001b[39m, \u001b[38;5;241m2\u001b[39m}:\n\u001b[1;32m    318\u001b[0m     \u001b[38;5;28;01mraise\u001b[39;00m \u001b[38;5;167;01mValueError\u001b[39;00m(\n\u001b[1;32m    319\u001b[0m         \u001b[38;5;124mf\u001b[39m\u001b[38;5;124m\"\u001b[39m\u001b[38;5;124mIPython won\u001b[39m\u001b[38;5;124m'\u001b[39m\u001b[38;5;124mt let you open fd=\u001b[39m\u001b[38;5;132;01m{\u001b[39;00mfile\u001b[38;5;132;01m}\u001b[39;00m\u001b[38;5;124m by default \u001b[39m\u001b[38;5;124m\"\u001b[39m\n\u001b[1;32m    320\u001b[0m         \u001b[38;5;124m\"\u001b[39m\u001b[38;5;124mas it is likely to crash IPython. If you know what you are doing, \u001b[39m\u001b[38;5;124m\"\u001b[39m\n\u001b[1;32m    321\u001b[0m         \u001b[38;5;124m\"\u001b[39m\u001b[38;5;124myou can use builtins\u001b[39m\u001b[38;5;124m'\u001b[39m\u001b[38;5;124m open.\u001b[39m\u001b[38;5;124m\"\u001b[39m\n\u001b[1;32m    322\u001b[0m     )\n\u001b[0;32m--> 324\u001b[0m \u001b[38;5;28;01mreturn\u001b[39;00m \u001b[43mio_open\u001b[49m\u001b[43m(\u001b[49m\u001b[43mfile\u001b[49m\u001b[43m,\u001b[49m\u001b[43m \u001b[49m\u001b[38;5;241;43m*\u001b[39;49m\u001b[43margs\u001b[49m\u001b[43m,\u001b[49m\u001b[43m \u001b[49m\u001b[38;5;241;43m*\u001b[39;49m\u001b[38;5;241;43m*\u001b[39;49m\u001b[43mkwargs\u001b[49m\u001b[43m)\u001b[49m\n",
      "\u001b[0;31mFileNotFoundError\u001b[0m: [Errno 2] No such file or directory: '../data/raw/ch-districts.geojson '"
     ]
    }
   ],
   "source": [
    "# import requests\n",
    "# import pandas as pd\n",
    "\n",
    "# # Fetch the GeoJSON data from the ArcGIS link\n",
    "# url = \"https://opendata.arcgis.com/api/v3/datasets/36e3c254f5f24484af16d2820014e5a1_0/downloads/data?format=geojson&spatialRefId=4326\"\n",
    "# geojson_data = requests.get(url).json()\n",
    "\n",
    "# # Normalize and extract relevant information\n",
    "# df = (\n",
    "#     pd.json_normalize(geojson_data[\"features\"])\n",
    "#     .loc[\n",
    "#         :,  # Here, you can filter by any property if needed (like districts or languages)\n",
    "#         [\"properties.NAME\", \"geometry.coordinates\"]  # Adjust the columns based on what's in the dataset\n",
    "#     ]\n",
    "#     .assign(\n",
    "#         lon=lambda d: d[\"geometry.coordinates\"].apply(lambda v: v[0]),\n",
    "#         lat=lambda d: d[\"geometry.coordinates\"].apply(lambda v: v[1]),\n",
    "#     )\n",
    "# )\n",
    "\n",
    "# # Display the dataframe\n",
    "# print(df)\n",
    "\n",
    "\n",
    "\n",
    "import streamlit as st\n",
    "import pandas as pd\n",
    "import numpy as np \n",
    "import plotly.graph_objects as go\n",
    "import plotly.express as px\n",
    "import os\n",
    "import json\n",
    "\n",
    "data = {\n",
    "    'BEZIRKSNUM': [1901, 1843],  # Example district number (must match \"BEZIRKSNUM\" in GeoJSON)\n",
    "    'EINWOHNERZ': [78305, 92000]  # Example population data to map\n",
    "}\n",
    "df = pd.DataFrame(data)\n",
    "\n",
    "with open('../data/raw/ch-districts.geojson ') as f:\n",
    "    geojson_data = json.load(f)\n",
    "\n",
    "# Create the choropleth map using Plotly Express\n",
    "fig = px.choropleth_mapbox(df,\n",
    "                           geojson=geojson_data,\n",
    "                           locations='BEZIRKSNUM', # this must match featureidkey\n",
    "                           featureidkey=\"properties.BEZIRKSNUM\",  # This must match the property in your GeoJSON\n",
    "                           color='EINWOHNERZ',\n",
    "                           mapbox_style=\"carto-positron\",\n",
    "                           center={\"lat\": 47.0, \"lon\": 8.0},  # Switzerland coordinates\n",
    "                           zoom=7)\n",
    "\n",
    "# fig.update_layout(margin={\"r\":0,\"t\":0,\"l\":0,\"b\":0})\n",
    "\n",
    "fig.show()\n"
   ]
  }
 ],
 "metadata": {
  "kernelspec": {
   "display_name": "VIZ",
   "language": "python",
   "name": "viz"
  },
  "language_info": {
   "codemirror_mode": {
    "name": "ipython",
    "version": 3
   },
   "file_extension": ".py",
   "mimetype": "text/x-python",
   "name": "python",
   "nbconvert_exporter": "python",
   "pygments_lexer": "ipython3",
   "version": "3.10.14"
  }
 },
 "nbformat": 4,
 "nbformat_minor": 5
}
