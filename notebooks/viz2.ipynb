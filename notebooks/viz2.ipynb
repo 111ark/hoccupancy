{
 "cells": [
  {
   "cell_type": "code",
   "execution_count": 10,
   "id": "e80131d1-ca13-4528-9fbe-3d519d74a0de",
   "metadata": {},
   "outputs": [
    {
     "ename": "FileNotFoundError",
     "evalue": "[Errno 2] No such file or directory: '../data/raw/ch-districts.geojson '",
     "output_type": "error",
     "traceback": [
      "\u001b[0;31m---------------------------------------------------------------------------\u001b[0m",
      "\u001b[0;31mFileNotFoundError\u001b[0m                         Traceback (most recent call last)",
      "Cell \u001b[0;32mIn[10], line 40\u001b[0m\n\u001b[1;32m     34\u001b[0m data \u001b[38;5;241m=\u001b[39m {\n\u001b[1;32m     35\u001b[0m     \u001b[38;5;124m'\u001b[39m\u001b[38;5;124mBEZIRKSNUM\u001b[39m\u001b[38;5;124m'\u001b[39m: [\u001b[38;5;241m1901\u001b[39m, \u001b[38;5;241m1843\u001b[39m],  \u001b[38;5;66;03m# Example district number (must match \"BEZIRKSNUM\" in GeoJSON)\u001b[39;00m\n\u001b[1;32m     36\u001b[0m     \u001b[38;5;124m'\u001b[39m\u001b[38;5;124mEINWOHNERZ\u001b[39m\u001b[38;5;124m'\u001b[39m: [\u001b[38;5;241m78305\u001b[39m, \u001b[38;5;241m92000\u001b[39m]  \u001b[38;5;66;03m# Example population data to map\u001b[39;00m\n\u001b[1;32m     37\u001b[0m }\n\u001b[1;32m     38\u001b[0m df \u001b[38;5;241m=\u001b[39m pd\u001b[38;5;241m.\u001b[39mDataFrame(data)\n\u001b[0;32m---> 40\u001b[0m \u001b[38;5;28;01mwith\u001b[39;00m \u001b[38;5;28;43mopen\u001b[39;49m\u001b[43m(\u001b[49m\u001b[38;5;124;43m'\u001b[39;49m\u001b[38;5;124;43m../data/raw/ch-districts.geojson \u001b[39;49m\u001b[38;5;124;43m'\u001b[39;49m\u001b[43m)\u001b[49m \u001b[38;5;28;01mas\u001b[39;00m f:\n\u001b[1;32m     41\u001b[0m     geojson_data \u001b[38;5;241m=\u001b[39m json\u001b[38;5;241m.\u001b[39mload(f)\n\u001b[1;32m     43\u001b[0m \u001b[38;5;66;03m# Create the choropleth map using Plotly Express\u001b[39;00m\n",
      "File \u001b[0;32m/opt/anaconda3/envs/VIZ/lib/python3.10/site-packages/IPython/core/interactiveshell.py:324\u001b[0m, in \u001b[0;36m_modified_open\u001b[0;34m(file, *args, **kwargs)\u001b[0m\n\u001b[1;32m    317\u001b[0m \u001b[38;5;28;01mif\u001b[39;00m file \u001b[38;5;129;01min\u001b[39;00m {\u001b[38;5;241m0\u001b[39m, \u001b[38;5;241m1\u001b[39m, \u001b[38;5;241m2\u001b[39m}:\n\u001b[1;32m    318\u001b[0m     \u001b[38;5;28;01mraise\u001b[39;00m \u001b[38;5;167;01mValueError\u001b[39;00m(\n\u001b[1;32m    319\u001b[0m         \u001b[38;5;124mf\u001b[39m\u001b[38;5;124m\"\u001b[39m\u001b[38;5;124mIPython won\u001b[39m\u001b[38;5;124m'\u001b[39m\u001b[38;5;124mt let you open fd=\u001b[39m\u001b[38;5;132;01m{\u001b[39;00mfile\u001b[38;5;132;01m}\u001b[39;00m\u001b[38;5;124m by default \u001b[39m\u001b[38;5;124m\"\u001b[39m\n\u001b[1;32m    320\u001b[0m         \u001b[38;5;124m\"\u001b[39m\u001b[38;5;124mas it is likely to crash IPython. If you know what you are doing, \u001b[39m\u001b[38;5;124m\"\u001b[39m\n\u001b[1;32m    321\u001b[0m         \u001b[38;5;124m\"\u001b[39m\u001b[38;5;124myou can use builtins\u001b[39m\u001b[38;5;124m'\u001b[39m\u001b[38;5;124m open.\u001b[39m\u001b[38;5;124m\"\u001b[39m\n\u001b[1;32m    322\u001b[0m     )\n\u001b[0;32m--> 324\u001b[0m \u001b[38;5;28;01mreturn\u001b[39;00m \u001b[43mio_open\u001b[49m\u001b[43m(\u001b[49m\u001b[43mfile\u001b[49m\u001b[43m,\u001b[49m\u001b[43m \u001b[49m\u001b[38;5;241;43m*\u001b[39;49m\u001b[43margs\u001b[49m\u001b[43m,\u001b[49m\u001b[43m \u001b[49m\u001b[38;5;241;43m*\u001b[39;49m\u001b[38;5;241;43m*\u001b[39;49m\u001b[43mkwargs\u001b[49m\u001b[43m)\u001b[49m\n",
      "\u001b[0;31mFileNotFoundError\u001b[0m: [Errno 2] No such file or directory: '../data/raw/ch-districts.geojson '"
     ]
    }
   ],
   "source": [
    "# import requests\n",
    "# import pandas as pd\n",
    "\n",
    "# # Fetch the GeoJSON data from the ArcGIS link\n",
    "# url = \"https://opendata.arcgis.com/api/v3/datasets/36e3c254f5f24484af16d2820014e5a1_0/downloads/data?format=geojson&spatialRefId=4326\"\n",
    "# geojson_data = requests.get(url).json()\n",
    "\n",
    "# # Normalize and extract relevant information\n",
    "# df = (\n",
    "#     pd.json_normalize(geojson_data[\"features\"])\n",
    "#     .loc[\n",
    "#         :,  # Here, you can filter by any property if needed (like districts or languages)\n",
    "#         [\"properties.NAME\", \"geometry.coordinates\"]  # Adjust the columns based on what's in the dataset\n",
    "#     ]\n",
    "#     .assign(\n",
    "#         lon=lambda d: d[\"geometry.coordinates\"].apply(lambda v: v[0]),\n",
    "#         lat=lambda d: d[\"geometry.coordinates\"].apply(lambda v: v[1]),\n",
    "#     )\n",
    "# )\n",
    "\n",
    "# # Display the dataframe\n",
    "# print(df)\n",
    "\n",
    "\n",
    "\n",
    "import streamlit as st\n",
    "import pandas as pd\n",
    "import numpy as np \n",
    "import plotly.graph_objects as go\n",
    "import plotly.express as px\n",
    "import os\n",
    "import json\n",
    "\n",
    "data = {\n",
    "    'BEZIRKSNUM': [1901, 1843],  # Example district number (must match \"BEZIRKSNUM\" in GeoJSON)\n",
    "    'EINWOHNERZ': [78305, 92000]  # Example population data to map\n",
    "}\n",
    "df = pd.DataFrame(data)\n",
    "\n",
    "with open('../data/raw/ch-districts.geojson ') as f:\n",
    "    geojson_data = json.load(f)\n",
    "\n",
    "# Create the choropleth map using Plotly Express\n",
    "fig = px.choropleth_mapbox(df,\n",
    "                           geojson=geojson_data,\n",
    "                           locations='BEZIRKSNUM', # this must match featureidkey\n",
    "                           featureidkey=\"properties.BEZIRKSNUM\",  # This must match the property in your GeoJSON\n",
    "                           color='EINWOHNERZ',\n",
    "                           mapbox_style=\"carto-positron\",\n",
    "                           center={\"lat\": 47.0, \"lon\": 8.0},  # Switzerland coordinates\n",
    "                           zoom=7)\n",
    "\n",
    "# fig.update_layout(margin={\"r\":0,\"t\":0,\"l\":0,\"b\":0})\n",
    "\n",
    "fig.show()\n"
   ]
  },
  {
   "cell_type": "code",
   "execution_count": null,
   "id": "a4bcaeaf-00ea-4e92-ba01-0af102a8656a",
   "metadata": {},
   "outputs": [],
   "source": []
  }
 ],
 "metadata": {
  "kernelspec": {
   "display_name": "VIZ",
   "language": "python",
   "name": "viz"
  },
  "language_info": {
   "codemirror_mode": {
    "name": "ipython",
    "version": 3
   },
   "file_extension": ".py",
   "mimetype": "text/x-python",
   "name": "python",
   "nbconvert_exporter": "python",
   "pygments_lexer": "ipython3",
   "version": "3.10.14"
  }
 },
 "nbformat": 4,
 "nbformat_minor": 5
}
