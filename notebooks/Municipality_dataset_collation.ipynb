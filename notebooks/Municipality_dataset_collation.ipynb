{
 "cells": [
  {
   "cell_type": "markdown",
   "metadata": {},
   "source": [
    "# Municipality DataFram collation"
   ]
  },
  {
   "cell_type": "code",
   "execution_count": 7,
   "metadata": {},
   "outputs": [],
   "source": [
    "# Imports\n",
    "import pandas as pd\n",
    "import numpy as np\n",
    "import json\n",
    "from scipy.optimize import minimize\n",
    "from geopy.distance import geodesic\n",
    "import concurrent.futures\n",
    "from tqdm import tqdm"
   ]
  },
  {
   "cell_type": "code",
   "execution_count": 14,
   "metadata": {},
   "outputs": [],
   "source": [
    "# Read data\n",
    "municipalities = pd.read_csv('../data/processed/pops_left.csv', encoding='utf-8')\n",
    "hospitals = pd.read_csv('../data/processed/hospitals_collated_reduced.csv')\n",
    "\n",
    "with open('../data/raw/gemeinden_wus.geojson', 'r') as f:\n",
    "    geojson = json.load(f)"
   ]
  },
  {
   "cell_type": "markdown",
   "metadata": {},
   "source": [
    "# Determine geographic center of municipalities\n",
    "We want to assign a hospital to each municipality. We will do so by assigning the geographically closest hospital to each municipality. Therefore we have to calculate the geographic center for each municipality using the data from the geojson file."
   ]
  },
  {
   "cell_type": "code",
   "execution_count": 9,
   "metadata": {},
   "outputs": [],
   "source": [
    "\n",
    "# def geodesic_distance_sum(point, coords):\n",
    "#     \"\"\" Calculate the sum of geodesic distances from the point to all coordinates \"\"\"\n",
    "#     lat, lon = point\n",
    "#     return sum(geodesic((lat, lon), coord).meters for coord in coords)\n",
    "\n",
    "# def geographic_median(coords):\n",
    "#     \"\"\"\n",
    "#     Find the geographic median (point equidistant to all given coordinates)\n",
    "#     using geodesic distance.\n",
    "#     \"\"\"\n",
    "#     # Start with the arithmetic mean as an initial guess\n",
    "#     initial_guess = np.mean(coords, axis=0)\n",
    "    \n",
    "#     # Minimize the sum of geodesic distances to all points\n",
    "#     result = minimize(geodesic_distance_sum, initial_guess, args=(coords,), method='Nelder-Mead')\n",
    "    \n",
    "#     return result.x  # Return the optimized latitude and longitude\n",
    "\n",
    "# geocenter = dict()\n",
    "\n",
    "# for mun in geojson['features']:\n",
    "#     name = mun['properties']['gemeinde_NAME']\n",
    "#     geo_coords = mun['geometry']['coordinates']\n",
    "#     coords = []\n",
    "\n",
    "#     c_list = [c for c in geo_coords[0][0]]\n",
    "#     [coords.append((latitute, longitude)) for longitude, latitute, _ in c_list]\n",
    "    \n",
    "#     center = geographic_median(coords)\n",
    "#     geocenter[name] = center\n",
    "\n",
    "# #print(geojson['features'][0]['properties']['gemeinde_NAME'])\n",
    "# # print(geojson['features'][0]['geometry']['coordinates'])\n"
   ]
  },
  {
   "cell_type": "code",
   "execution_count": 10,
   "metadata": {},
   "outputs": [],
   "source": [
    "# def geographic_median(coords):\n",
    "#     \"\"\"\n",
    "#     Find the geographic median (point equidistant to all given coordinates)\n",
    "#     using geodesic distance.\n",
    "#     \"\"\"\n",
    "#     # Start with the arithmetic mean as an initial guess\n",
    "#     initial_guess = np.mean(coords, axis=0)\n",
    "    \n",
    "#     # Minimize the sum of geodesic distances to all points\n",
    "#     result = minimize(geodesic_distance_sum, initial_guess, args=(coords,), method='Nelder-Mead')\n",
    "    \n",
    "#     return result.x  # Return the optimized latitude and longitude\n",
    "\n",
    "# def process_municipality(mun):\n",
    "#     name = mun['properties']['gemeinde_NAME']\n",
    "#     geo_coords = mun['geometry']['coordinates']\n",
    "#     coords = []\n",
    "\n",
    "#     c_list = [c for c in geo_coords[0][0]]\n",
    "#     [coords.append((latitute, longitude)) for longitude, latitute, _ in c_list]\n",
    "\n",
    "#     center = geographic_median(coords)\n",
    "#     return name, center\n",
    "\n",
    "# geocenter = {}\n",
    "\n",
    "# num_municipalities = len(geojson['features'])\n",
    "# pbar = tqdm(total=num_municipalities, desc=\"Processing municipalities\")\n",
    "\n",
    "# with concurrent.futures.ThreadPoolExecutor() as executor:\n",
    "#     futures = {executor.submit(process_municipality, mun): mun for mun in geojson['features']}\n",
    "#     for future in concurrent.futures.as_completed(futures):\n",
    "#         mun = futures[future]\n",
    "#         try:\n",
    "#             name, center = future.result()\n",
    "#             geocenter[name] = center\n",
    "#             pbar.update(1)\n",
    "#         except Exception as e:\n",
    "#             print(f\"Error processing municipality {mun['properties']['gemeinde_NAME']}: {e}\")\n",
    "#             pbar.update(1)\n",
    "\n",
    "# pbar.close()"
   ]
  },
  {
   "cell_type": "markdown",
   "metadata": {},
   "source": [
    "try without optimisation an see whether using the mean is good enogugh. This will run much faster."
   ]
  },
  {
   "cell_type": "code",
   "execution_count": 11,
   "metadata": {},
   "outputs": [],
   "source": [
    "def geographic_median(coords):\n",
    "    \"\"\"\n",
    "    Find the geographic median (point equidistant to all given coordinates)\n",
    "    using geodesic distance.\n",
    "    \"\"\"\n",
    "    initial_guess = np.mean(coords, axis=0)\n",
    "    return initial_guess\n",
    "\n",
    "geocenter = dict()\n",
    "\n",
    "for mun in geojson['features']:\n",
    "    name = mun['properties']['gemeinde_NAME']\n",
    "    geo_coords = mun['geometry']['coordinates']\n",
    "    coords = []\n",
    "\n",
    "    c_list = [c for c in geo_coords[0][0]]\n",
    "    [coords.append((latitute, longitude)) for longitude, latitute, _ in c_list]\n",
    "    \n",
    "    center = geographic_median(coords)\n",
    "    geocenter[name] = center"
   ]
  },
  {
   "cell_type": "code",
   "execution_count": 17,
   "metadata": {},
   "outputs": [
    {
     "data": {
      "text/html": [
       "<div>\n",
       "<style scoped>\n",
       "    .dataframe tbody tr th:only-of-type {\n",
       "        vertical-align: middle;\n",
       "    }\n",
       "\n",
       "    .dataframe tbody tr th {\n",
       "        vertical-align: top;\n",
       "    }\n",
       "\n",
       "    .dataframe thead th {\n",
       "        text-align: right;\n",
       "    }\n",
       "</style>\n",
       "<table border=\"1\" class=\"dataframe\">\n",
       "  <thead>\n",
       "    <tr style=\"text-align: right;\">\n",
       "      <th></th>\n",
       "      <th>B19BTOT</th>\n",
       "      <th>gemeinde_NAME</th>\n",
       "      <th>coords</th>\n",
       "    </tr>\n",
       "  </thead>\n",
       "  <tbody>\n",
       "    <tr>\n",
       "      <th>0</th>\n",
       "      <td>1981</td>\n",
       "      <td>Aeugst am Albis</td>\n",
       "      <td>[47.27390000382371, 8.487954663272388]</td>\n",
       "    </tr>\n",
       "    <tr>\n",
       "      <th>1</th>\n",
       "      <td>5721</td>\n",
       "      <td>Obfelden</td>\n",
       "      <td>[47.26417791798067, 8.41875479814007]</td>\n",
       "    </tr>\n",
       "    <tr>\n",
       "      <th>2</th>\n",
       "      <td>2293</td>\n",
       "      <td>Stadel</td>\n",
       "      <td>[47.53913755670497, 8.466035447304153]</td>\n",
       "    </tr>\n",
       "    <tr>\n",
       "      <th>3</th>\n",
       "      <td>789</td>\n",
       "      <td>Doppleschwand</td>\n",
       "      <td>[47.01161188422407, 8.047201928359051]</td>\n",
       "    </tr>\n",
       "    <tr>\n",
       "      <th>4</th>\n",
       "      <td>3280</td>\n",
       "      <td>Entlebuch</td>\n",
       "      <td>[46.97605417000893, 8.110869044268913]</td>\n",
       "    </tr>\n",
       "  </tbody>\n",
       "</table>\n",
       "</div>"
      ],
      "text/plain": [
       "   B19BTOT    gemeinde_NAME                                  coords\n",
       "0     1981  Aeugst am Albis  [47.27390000382371, 8.487954663272388]\n",
       "1     5721         Obfelden   [47.26417791798067, 8.41875479814007]\n",
       "2     2293           Stadel  [47.53913755670497, 8.466035447304153]\n",
       "3      789    Doppleschwand  [47.01161188422407, 8.047201928359051]\n",
       "4     3280        Entlebuch  [46.97605417000893, 8.110869044268913]"
      ]
     },
     "execution_count": 17,
     "metadata": {},
     "output_type": "execute_result"
    }
   ],
   "source": [
    "municipalities['coords'] = municipalities['gemeinde_NAME'].map(geocenter)\n",
    "municipalities.drop(columns=['Unnamed: 0.1', 'Unnamed: 0'], inplace=True)\n",
    "municipalities.head()"
   ]
  },
  {
   "cell_type": "code",
   "execution_count": 18,
   "metadata": {},
   "outputs": [],
   "source": [
    "municipalities.to_csv('../data/processed/pops_left_coords.csv', index=False)"
   ]
  }
 ],
 "metadata": {
  "kernelspec": {
   "display_name": "hospital",
   "language": "python",
   "name": "python3"
  },
  "language_info": {
   "codemirror_mode": {
    "name": "ipython",
    "version": 3
   },
   "file_extension": ".py",
   "mimetype": "text/x-python",
   "name": "python",
   "nbconvert_exporter": "python",
   "pygments_lexer": "ipython3",
   "version": "3.12.4"
  }
 },
 "nbformat": 4,
 "nbformat_minor": 2
}
